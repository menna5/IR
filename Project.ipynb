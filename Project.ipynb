{
 "cells": [
  {
   "cell_type": "code",
   "execution_count": 25,
   "id": "04d259df",
   "metadata": {},
   "outputs": [],
   "source": [
    "import csv\n",
    "from flask import Flask, render_template, request\n",
    "import math\n",
    "from collections import Counter, defaultdict\n",
    "import nltk\n",
    "from nltk.tokenize import word_tokenize\n",
    "import re"
   ]
  },
  {
   "cell_type": "code",
   "execution_count": 26,
   "id": "31c12ed3",
   "metadata": {},
   "outputs": [],
   "source": [
    "# Load Arabic stopwords from NLTK\n",
    "stopwords = set(nltk.corpus.stopwords.words('english'))\n",
    "\n",
    "# Preprocessing\n",
    "def preprocess(query):\n",
    "    # Remove punctuation marks\n",
    "    query = re.sub(r'[^\\w\\s]', '', query)\n",
    "    \n",
    "    # Tokenization\n",
    "    tokens = word_tokenize(query.lower())\n",
    "\n",
    "    # Stop-word removal\n",
    "    filtered_tokens = [token for token in tokens if token not in stopwords]\n",
    "\n",
    "    return filtered_tokens\n",
    "\n",
    "# Build inverted index\n",
    "def build_inverted_index(documents):\n",
    "    inverted_index = defaultdict(list)\n",
    "    for doc_id, text in documents.items():\n",
    "        tokens = preprocess(text)\n",
    "        for token in tokens:\n",
    "            inverted_index[token].append(doc_id)\n",
    "    return inverted_index\n",
    "\n",
    "# Compute TF-IDF\n",
    "def compute_tfidf(documents, inverted_index):\n",
    "    tfidf = {}\n",
    "    document_count = len(documents)\n",
    "    token_count = Counter()\n",
    "\n",
    "    # Compute term frequency (TF) for each document\n",
    "    for doc_id, text in documents.items():\n",
    "        tokens = preprocess(text)\n",
    "        tf = Counter(tokens)\n",
    "        token_count.update(tokens)\n",
    "\n",
    "        # Compute TF-IDF for each term\n",
    "        for token, freq in tf.items():\n",
    "            tfidf[doc_id, token] = (freq / len(tokens)) * math.log(document_count / len(inverted_index[token]))\n",
    "\n",
    "    return tfidf\n",
    "\n",
    "# Compute cosine similarity\n",
    "def cosine_similarity(query_vector, document_vector):\n",
    "    dot_product = sum(query_vector[token] * document_vector[token] for token in query_vector)\n",
    "    query_norm = math.sqrt(sum(val ** 2 for val in query_vector.values()))\n",
    "    doc_norm = math.sqrt(sum(val ** 2 for val in document_vector.values()))\n",
    "    return dot_product / (query_norm * doc_norm) if query_norm != 0 and doc_norm != 0 else 0\n",
    "\n",
    "# Retrieve and rank documents based on TF-IDF\n",
    "def retrieve_and_rank_tfidf(query, documents, tfidf, inverted_index):\n",
    "    query_tokens = preprocess(query)\n",
    "    query_vector = Counter(query_tokens)\n",
    "    scores = defaultdict(int)\n",
    "\n",
    "    for token in query_tokens:\n",
    "        for doc_id in inverted_index[token]:\n",
    "            scores[doc_id] += tfidf.get((doc_id, token), 0)\n",
    "\n",
    "    ranked_docs = sorted(scores.items(), key=lambda x: x[1], reverse=True)[:3]  # Only top 3 ranked\n",
    "    return ranked_docs\n",
    "\n",
    "# Retrieve and rank documents based on cosine similarity\n",
    "def retrieve_and_rank_cosine(query, documents, tfidf, inverted_index):\n",
    "    query_tokens = preprocess(query)\n",
    "    query_vector = Counter(query_tokens)\n",
    "    scores = defaultdict(int)\n",
    "\n",
    "    for token in query_tokens:\n",
    "        for doc_id in inverted_index[token]:\n",
    "            document_vector = Counter({token: tfidf.get((doc_id, token), 0)})\n",
    "            scores[doc_id] += cosine_similarity(query_vector, document_vector)\n",
    "\n",
    "    ranked_docs = sorted(scores.items(), key=lambda x: x[1], reverse=True)[:]  # Only top 3 ranked\n",
    "    return ranked_docs"
   ]
  },
  {
   "cell_type": "code",
   "execution_count": 27,
   "id": "33a51c83",
   "metadata": {
    "scrolled": true
   },
   "outputs": [
    {
     "name": "stdout",
     "output_type": "stream",
     "text": [
      " * Serving Flask app '__main__'\n",
      " * Debug mode: off\n"
     ]
    },
    {
     "name": "stderr",
     "output_type": "stream",
     "text": [
      "WARNING: This is a development server. Do not use it in a production deployment. Use a production WSGI server instead.\n",
      " * Running on http://127.0.0.1:5000\n",
      "Press CTRL+C to quit\n",
      "127.0.0.1 - - [09/May/2024 20:56:47] \"GET / HTTP/1.1\" 200 -\n",
      "127.0.0.1 - - [09/May/2024 20:56:51] \"POST /search HTTP/1.1\" 200 -\n",
      "127.0.0.1 - - [09/May/2024 20:57:53] \"GET / HTTP/1.1\" 200 -\n",
      "127.0.0.1 - - [09/May/2024 20:57:57] \"POST /search HTTP/1.1\" 200 -\n"
     ]
    }
   ],
   "source": [
    "filename = 'queries2.csv'  \n",
    "documents = {}\n",
    "with open(filename, 'r', encoding='utf-8') as file:\n",
    "    reader = csv.reader(file)\n",
    "    next(reader) \n",
    "    for row_id, row in enumerate(reader, start=1):\n",
    "        document = ' '.join(row)  # Join all elements in the row into a single string\n",
    "        documents[row_id] = document\n",
    "        \n",
    "app = Flask(__name__)\n",
    "\n",
    "# Home page\n",
    "@app.route('/')\n",
    "def home():\n",
    "    return render_template('index.html')\n",
    "\n",
    "# Search results page\n",
    "@app.route('/search', methods=['POST'])\n",
    "def search():\n",
    "    query = request.form['query']\n",
    "    inverted_index = build_inverted_index(documents)\n",
    "    tfidf = compute_tfidf(documents, inverted_index)\n",
    "    tfidf_ranked_docs = retrieve_and_rank_tfidf(query, documents, tfidf, inverted_index)\n",
    "    cosine_ranked_docs = retrieve_and_rank_cosine(query, documents, tfidf, inverted_index)\n",
    "    return render_template('search_results.html', query=query, tfidf_ranked_docs=tfidf_ranked_docs, cosine_ranked_docs=cosine_ranked_docs, documents=documents)\n",
    "\n",
    "if __name__ == '__main__':\n",
    "    app.run()"
   ]
  },
  {
   "cell_type": "code",
   "execution_count": null,
   "id": "e94d7c81",
   "metadata": {},
   "outputs": [],
   "source": []
  }
 ],
 "metadata": {
  "kernelspec": {
   "display_name": "Python 3 (ipykernel)",
   "language": "python",
   "name": "python3"
  },
  "language_info": {
   "codemirror_mode": {
    "name": "ipython",
    "version": 3
   },
   "file_extension": ".py",
   "mimetype": "text/x-python",
   "name": "python",
   "nbconvert_exporter": "python",
   "pygments_lexer": "ipython3",
   "version": "3.9.19"
  }
 },
 "nbformat": 4,
 "nbformat_minor": 5
}
